{
 "cells": [
  {
   "cell_type": "code",
   "execution_count": 1,
   "metadata": {},
   "outputs": [
    {
     "name": "stdout",
     "output_type": "stream",
     "text": [
      "Requirement already satisfied: yfinance in c:\\programdata\\anaconda3\\lib\\site-packages (0.1.67)\n",
      "Requirement already satisfied: lxml>=4.5.1 in c:\\programdata\\anaconda3\\lib\\site-packages (from yfinance) (4.6.1)\n",
      "Requirement already satisfied: multitasking>=0.0.7 in c:\\programdata\\anaconda3\\lib\\site-packages (from yfinance) (0.0.10)\n",
      "Requirement already satisfied: pandas>=0.24 in c:\\programdata\\anaconda3\\lib\\site-packages (from yfinance) (1.2.4)\n",
      "Requirement already satisfied: requests>=2.20 in c:\\programdata\\anaconda3\\lib\\site-packages (from yfinance) (2.24.0)\n",
      "Requirement already satisfied: numpy>=1.15 in c:\\programdata\\anaconda3\\lib\\site-packages (from yfinance) (1.19.2)\n",
      "Requirement already satisfied: pytz>=2017.3 in c:\\programdata\\anaconda3\\lib\\site-packages (from pandas>=0.24->yfinance) (2020.1)\n",
      "Requirement already satisfied: python-dateutil>=2.7.3 in c:\\programdata\\anaconda3\\lib\\site-packages (from pandas>=0.24->yfinance) (2.8.1)\n",
      "Requirement already satisfied: idna<3,>=2.5 in c:\\programdata\\anaconda3\\lib\\site-packages (from requests>=2.20->yfinance) (2.10)\n",
      "Requirement already satisfied: certifi>=2017.4.17 in c:\\programdata\\anaconda3\\lib\\site-packages (from requests>=2.20->yfinance) (2021.10.8)\n",
      "Requirement already satisfied: chardet<4,>=3.0.2 in c:\\programdata\\anaconda3\\lib\\site-packages (from requests>=2.20->yfinance) (3.0.4)\n",
      "Requirement already satisfied: urllib3!=1.25.0,!=1.25.1,<1.26,>=1.21.1 in c:\\programdata\\anaconda3\\lib\\site-packages (from requests>=2.20->yfinance) (1.25.11)\n",
      "Requirement already satisfied: six>=1.5 in c:\\programdata\\anaconda3\\lib\\site-packages (from python-dateutil>=2.7.3->pandas>=0.24->yfinance) (1.15.0)\n",
      "Note: you may need to restart the kernel to use updated packages.\n"
     ]
    }
   ],
   "source": [
    "pip install yfinance"
   ]
  },
  {
   "cell_type": "code",
   "execution_count": 2,
   "metadata": {},
   "outputs": [
    {
     "name": "stdout",
     "output_type": "stream",
     "text": [
      "Requirement already satisfied: fix_yahoo_finance in c:\\programdata\\anaconda3\\lib\\site-packages (0.1.37)\n",
      "Requirement already satisfied: yfinance in c:\\programdata\\anaconda3\\lib\\site-packages (from fix_yahoo_finance) (0.1.67)\n",
      "Requirement already satisfied: multitasking>=0.0.7 in c:\\programdata\\anaconda3\\lib\\site-packages (from yfinance->fix_yahoo_finance) (0.0.10)\n",
      "Requirement already satisfied: pandas>=0.24 in c:\\programdata\\anaconda3\\lib\\site-packages (from yfinance->fix_yahoo_finance) (1.2.4)\n",
      "Requirement already satisfied: numpy>=1.15 in c:\\programdata\\anaconda3\\lib\\site-packages (from yfinance->fix_yahoo_finance) (1.19.2)\n",
      "Requirement already satisfied: requests>=2.20 in c:\\programdata\\anaconda3\\lib\\site-packages (from yfinance->fix_yahoo_finance) (2.24.0)\n",
      "Requirement already satisfied: lxml>=4.5.1 in c:\\programdata\\anaconda3\\lib\\site-packages (from yfinance->fix_yahoo_finance) (4.6.1)\n",
      "Requirement already satisfied: python-dateutil>=2.7.3 in c:\\programdata\\anaconda3\\lib\\site-packages (from pandas>=0.24->yfinance->fix_yahoo_finance) (2.8.1)\n",
      "Requirement already satisfied: pytz>=2017.3 in c:\\programdata\\anaconda3\\lib\\site-packages (from pandas>=0.24->yfinance->fix_yahoo_finance) (2020.1)\n",
      "Requirement already satisfied: urllib3!=1.25.0,!=1.25.1,<1.26,>=1.21.1 in c:\\programdata\\anaconda3\\lib\\site-packages (from requests>=2.20->yfinance->fix_yahoo_finance) (1.25.11)\n",
      "Requirement already satisfied: idna<3,>=2.5 in c:\\programdata\\anaconda3\\lib\\site-packages (from requests>=2.20->yfinance->fix_yahoo_finance) (2.10)\n",
      "Requirement already satisfied: chardet<4,>=3.0.2 in c:\\programdata\\anaconda3\\lib\\site-packages (from requests>=2.20->yfinance->fix_yahoo_finance) (3.0.4)\n",
      "Requirement already satisfied: certifi>=2017.4.17 in c:\\programdata\\anaconda3\\lib\\site-packages (from requests>=2.20->yfinance->fix_yahoo_finance) (2021.10.8)\n",
      "Requirement already satisfied: six>=1.5 in c:\\programdata\\anaconda3\\lib\\site-packages (from python-dateutil>=2.7.3->pandas>=0.24->yfinance->fix_yahoo_finance) (1.15.0)\n",
      "Note: you may need to restart the kernel to use updated packages.\n"
     ]
    }
   ],
   "source": [
    "pip install fix_yahoo_finance"
   ]
  },
  {
   "cell_type": "code",
   "execution_count": 3,
   "metadata": {},
   "outputs": [],
   "source": [
    "import numpy as np\n",
    "import pandas as pd\n",
    "from sklearn.linear_model import LinearRegression\n",
    "from sklearn.metrics import mean_squared_error as MSE\n",
    "import warnings\n",
    "warnings.filterwarnings('ignore')\n",
    "import yfinance as yfin\n",
    "yfin.pdr_override()"
   ]
  },
  {
   "cell_type": "markdown",
   "metadata": {},
   "source": [
    "# Input Variables"
   ]
  },
  {
   "cell_type": "code",
   "execution_count": 4,
   "metadata": {},
   "outputs": [],
   "source": [
    "Ticker = \"MSFT\"\n",
    "Prediction_Date = \"2010-07-01\"\n",
    "End_Learning = \"2010-06-30\"\n",
    "Start_Learning = \"2008-04-02\"\n",
    "Start_Prediction = \"2010-06-30\"\n",
    "End_Prediction = \"2010-07-03\""
   ]
  },
  {
   "cell_type": "code",
   "execution_count": 5,
   "metadata": {},
   "outputs": [
    {
     "name": "stdout",
     "output_type": "stream",
     "text": [
      "[*********************100%***********************]  1 of 1 completed\n"
     ]
    }
   ],
   "source": [
    "from pandas_datareader import data as pdr\n",
    "\n",
    "df1 = pdr.get_data_yahoo(Ticker, \n",
    "                         start= Start_Learning,\n",
    "                         end= End_Learning)"
   ]
  },
  {
   "cell_type": "code",
   "execution_count": 6,
   "metadata": {},
   "outputs": [
    {
     "data": {
      "text/html": [
       "<div>\n",
       "<style scoped>\n",
       "    .dataframe tbody tr th:only-of-type {\n",
       "        vertical-align: middle;\n",
       "    }\n",
       "\n",
       "    .dataframe tbody tr th {\n",
       "        vertical-align: top;\n",
       "    }\n",
       "\n",
       "    .dataframe thead th {\n",
       "        text-align: right;\n",
       "    }\n",
       "</style>\n",
       "<table border=\"1\" class=\"dataframe\">\n",
       "  <thead>\n",
       "    <tr style=\"text-align: right;\">\n",
       "      <th></th>\n",
       "      <th>Open</th>\n",
       "      <th>High</th>\n",
       "      <th>Low</th>\n",
       "      <th>Close</th>\n",
       "      <th>Adj Close</th>\n",
       "      <th>Volume</th>\n",
       "    </tr>\n",
       "    <tr>\n",
       "      <th>Date</th>\n",
       "      <th></th>\n",
       "      <th></th>\n",
       "      <th></th>\n",
       "      <th></th>\n",
       "      <th></th>\n",
       "      <th></th>\n",
       "    </tr>\n",
       "  </thead>\n",
       "  <tbody>\n",
       "    <tr>\n",
       "      <th>2008-04-01</th>\n",
       "      <td>28.830000</td>\n",
       "      <td>29.540001</td>\n",
       "      <td>28.629999</td>\n",
       "      <td>29.500000</td>\n",
       "      <td>21.899218</td>\n",
       "      <td>65796200</td>\n",
       "    </tr>\n",
       "    <tr>\n",
       "      <th>2008-04-02</th>\n",
       "      <td>29.570000</td>\n",
       "      <td>29.580000</td>\n",
       "      <td>29.000000</td>\n",
       "      <td>29.160000</td>\n",
       "      <td>21.646816</td>\n",
       "      <td>49499400</td>\n",
       "    </tr>\n",
       "    <tr>\n",
       "      <th>2008-04-03</th>\n",
       "      <td>29.000000</td>\n",
       "      <td>29.320000</td>\n",
       "      <td>28.799999</td>\n",
       "      <td>29.000000</td>\n",
       "      <td>21.528038</td>\n",
       "      <td>38961400</td>\n",
       "    </tr>\n",
       "    <tr>\n",
       "      <th>2008-04-04</th>\n",
       "      <td>29.129999</td>\n",
       "      <td>29.260000</td>\n",
       "      <td>28.740000</td>\n",
       "      <td>29.160000</td>\n",
       "      <td>21.646816</td>\n",
       "      <td>43860800</td>\n",
       "    </tr>\n",
       "    <tr>\n",
       "      <th>2008-04-07</th>\n",
       "      <td>29.549999</td>\n",
       "      <td>29.590000</td>\n",
       "      <td>29.030001</td>\n",
       "      <td>29.160000</td>\n",
       "      <td>21.646816</td>\n",
       "      <td>44428600</td>\n",
       "    </tr>\n",
       "    <tr>\n",
       "      <th>...</th>\n",
       "      <td>...</td>\n",
       "      <td>...</td>\n",
       "      <td>...</td>\n",
       "      <td>...</td>\n",
       "      <td>...</td>\n",
       "      <td>...</td>\n",
       "    </tr>\n",
       "    <tr>\n",
       "      <th>2010-06-23</th>\n",
       "      <td>25.780001</td>\n",
       "      <td>25.780001</td>\n",
       "      <td>25.219999</td>\n",
       "      <td>25.309999</td>\n",
       "      <td>19.688120</td>\n",
       "      <td>61466200</td>\n",
       "    </tr>\n",
       "    <tr>\n",
       "      <th>2010-06-24</th>\n",
       "      <td>25.459999</td>\n",
       "      <td>25.719999</td>\n",
       "      <td>24.930000</td>\n",
       "      <td>25.000000</td>\n",
       "      <td>19.446974</td>\n",
       "      <td>85243400</td>\n",
       "    </tr>\n",
       "    <tr>\n",
       "      <th>2010-06-25</th>\n",
       "      <td>25.049999</td>\n",
       "      <td>25.110001</td>\n",
       "      <td>24.309999</td>\n",
       "      <td>24.530001</td>\n",
       "      <td>19.081375</td>\n",
       "      <td>156256700</td>\n",
       "    </tr>\n",
       "    <tr>\n",
       "      <th>2010-06-28</th>\n",
       "      <td>24.510000</td>\n",
       "      <td>24.610001</td>\n",
       "      <td>24.120001</td>\n",
       "      <td>24.309999</td>\n",
       "      <td>18.910240</td>\n",
       "      <td>73784800</td>\n",
       "    </tr>\n",
       "    <tr>\n",
       "      <th>2010-06-29</th>\n",
       "      <td>24.129999</td>\n",
       "      <td>24.200001</td>\n",
       "      <td>23.110001</td>\n",
       "      <td>23.309999</td>\n",
       "      <td>18.132368</td>\n",
       "      <td>119882100</td>\n",
       "    </tr>\n",
       "  </tbody>\n",
       "</table>\n",
       "<p>567 rows × 6 columns</p>\n",
       "</div>"
      ],
      "text/plain": [
       "                 Open       High        Low      Close  Adj Close     Volume\n",
       "Date                                                                        \n",
       "2008-04-01  28.830000  29.540001  28.629999  29.500000  21.899218   65796200\n",
       "2008-04-02  29.570000  29.580000  29.000000  29.160000  21.646816   49499400\n",
       "2008-04-03  29.000000  29.320000  28.799999  29.000000  21.528038   38961400\n",
       "2008-04-04  29.129999  29.260000  28.740000  29.160000  21.646816   43860800\n",
       "2008-04-07  29.549999  29.590000  29.030001  29.160000  21.646816   44428600\n",
       "...               ...        ...        ...        ...        ...        ...\n",
       "2010-06-23  25.780001  25.780001  25.219999  25.309999  19.688120   61466200\n",
       "2010-06-24  25.459999  25.719999  24.930000  25.000000  19.446974   85243400\n",
       "2010-06-25  25.049999  25.110001  24.309999  24.530001  19.081375  156256700\n",
       "2010-06-28  24.510000  24.610001  24.120001  24.309999  18.910240   73784800\n",
       "2010-06-29  24.129999  24.200001  23.110001  23.309999  18.132368  119882100\n",
       "\n",
       "[567 rows x 6 columns]"
      ]
     },
     "execution_count": 6,
     "metadata": {},
     "output_type": "execute_result"
    }
   ],
   "source": [
    "df1"
   ]
  },
  {
   "cell_type": "code",
   "execution_count": 7,
   "metadata": {},
   "outputs": [],
   "source": [
    "daily_prices1 = pd.concat([df1['Open'], df1['High'], df1['Low'],\n",
    "                           df1['Adj Close'], df1['Volume'],df1['Close']], axis=1)\n",
    "\n",
    "daily_prices1.columns = ['Open', 'High', 'Low',\n",
    "                         'Adj Close','Volume','Close']"
   ]
  },
  {
   "cell_type": "code",
   "execution_count": 8,
   "metadata": {},
   "outputs": [
    {
     "data": {
      "text/html": [
       "<div>\n",
       "<style scoped>\n",
       "    .dataframe tbody tr th:only-of-type {\n",
       "        vertical-align: middle;\n",
       "    }\n",
       "\n",
       "    .dataframe tbody tr th {\n",
       "        vertical-align: top;\n",
       "    }\n",
       "\n",
       "    .dataframe thead th {\n",
       "        text-align: right;\n",
       "    }\n",
       "</style>\n",
       "<table border=\"1\" class=\"dataframe\">\n",
       "  <thead>\n",
       "    <tr style=\"text-align: right;\">\n",
       "      <th></th>\n",
       "      <th>Open</th>\n",
       "      <th>High</th>\n",
       "      <th>Low</th>\n",
       "      <th>Adj Close</th>\n",
       "      <th>Volume</th>\n",
       "      <th>Close</th>\n",
       "    </tr>\n",
       "    <tr>\n",
       "      <th>Date</th>\n",
       "      <th></th>\n",
       "      <th></th>\n",
       "      <th></th>\n",
       "      <th></th>\n",
       "      <th></th>\n",
       "      <th></th>\n",
       "    </tr>\n",
       "  </thead>\n",
       "  <tbody>\n",
       "    <tr>\n",
       "      <th>2008-04-01</th>\n",
       "      <td>28.830000</td>\n",
       "      <td>29.540001</td>\n",
       "      <td>28.629999</td>\n",
       "      <td>21.899218</td>\n",
       "      <td>65796200</td>\n",
       "      <td>29.50</td>\n",
       "    </tr>\n",
       "    <tr>\n",
       "      <th>2008-04-02</th>\n",
       "      <td>29.570000</td>\n",
       "      <td>29.580000</td>\n",
       "      <td>29.000000</td>\n",
       "      <td>21.646816</td>\n",
       "      <td>49499400</td>\n",
       "      <td>29.16</td>\n",
       "    </tr>\n",
       "    <tr>\n",
       "      <th>2008-04-03</th>\n",
       "      <td>29.000000</td>\n",
       "      <td>29.320000</td>\n",
       "      <td>28.799999</td>\n",
       "      <td>21.528038</td>\n",
       "      <td>38961400</td>\n",
       "      <td>29.00</td>\n",
       "    </tr>\n",
       "    <tr>\n",
       "      <th>2008-04-04</th>\n",
       "      <td>29.129999</td>\n",
       "      <td>29.260000</td>\n",
       "      <td>28.740000</td>\n",
       "      <td>21.646816</td>\n",
       "      <td>43860800</td>\n",
       "      <td>29.16</td>\n",
       "    </tr>\n",
       "    <tr>\n",
       "      <th>2008-04-07</th>\n",
       "      <td>29.549999</td>\n",
       "      <td>29.590000</td>\n",
       "      <td>29.030001</td>\n",
       "      <td>21.646816</td>\n",
       "      <td>44428600</td>\n",
       "      <td>29.16</td>\n",
       "    </tr>\n",
       "  </tbody>\n",
       "</table>\n",
       "</div>"
      ],
      "text/plain": [
       "                 Open       High        Low  Adj Close    Volume  Close\n",
       "Date                                                                   \n",
       "2008-04-01  28.830000  29.540001  28.629999  21.899218  65796200  29.50\n",
       "2008-04-02  29.570000  29.580000  29.000000  21.646816  49499400  29.16\n",
       "2008-04-03  29.000000  29.320000  28.799999  21.528038  38961400  29.00\n",
       "2008-04-04  29.129999  29.260000  28.740000  21.646816  43860800  29.16\n",
       "2008-04-07  29.549999  29.590000  29.030001  21.646816  44428600  29.16"
      ]
     },
     "execution_count": 8,
     "metadata": {},
     "output_type": "execute_result"
    }
   ],
   "source": [
    "daily_prices1.head()"
   ]
  },
  {
   "cell_type": "code",
   "execution_count": 9,
   "metadata": {},
   "outputs": [
    {
     "data": {
      "text/html": [
       "<div>\n",
       "<style scoped>\n",
       "    .dataframe tbody tr th:only-of-type {\n",
       "        vertical-align: middle;\n",
       "    }\n",
       "\n",
       "    .dataframe tbody tr th {\n",
       "        vertical-align: top;\n",
       "    }\n",
       "\n",
       "    .dataframe thead th {\n",
       "        text-align: right;\n",
       "    }\n",
       "</style>\n",
       "<table border=\"1\" class=\"dataframe\">\n",
       "  <thead>\n",
       "    <tr style=\"text-align: right;\">\n",
       "      <th></th>\n",
       "      <th>Open</th>\n",
       "      <th>High</th>\n",
       "      <th>Low</th>\n",
       "      <th>Adj Close</th>\n",
       "      <th>Volume</th>\n",
       "      <th>Close</th>\n",
       "    </tr>\n",
       "    <tr>\n",
       "      <th>Date</th>\n",
       "      <th></th>\n",
       "      <th></th>\n",
       "      <th></th>\n",
       "      <th></th>\n",
       "      <th></th>\n",
       "      <th></th>\n",
       "    </tr>\n",
       "  </thead>\n",
       "  <tbody>\n",
       "    <tr>\n",
       "      <th>2010-06-23</th>\n",
       "      <td>25.780001</td>\n",
       "      <td>25.780001</td>\n",
       "      <td>25.219999</td>\n",
       "      <td>19.688120</td>\n",
       "      <td>61466200</td>\n",
       "      <td>25.309999</td>\n",
       "    </tr>\n",
       "    <tr>\n",
       "      <th>2010-06-24</th>\n",
       "      <td>25.459999</td>\n",
       "      <td>25.719999</td>\n",
       "      <td>24.930000</td>\n",
       "      <td>19.446974</td>\n",
       "      <td>85243400</td>\n",
       "      <td>25.000000</td>\n",
       "    </tr>\n",
       "    <tr>\n",
       "      <th>2010-06-25</th>\n",
       "      <td>25.049999</td>\n",
       "      <td>25.110001</td>\n",
       "      <td>24.309999</td>\n",
       "      <td>19.081375</td>\n",
       "      <td>156256700</td>\n",
       "      <td>24.530001</td>\n",
       "    </tr>\n",
       "    <tr>\n",
       "      <th>2010-06-28</th>\n",
       "      <td>24.510000</td>\n",
       "      <td>24.610001</td>\n",
       "      <td>24.120001</td>\n",
       "      <td>18.910240</td>\n",
       "      <td>73784800</td>\n",
       "      <td>24.309999</td>\n",
       "    </tr>\n",
       "    <tr>\n",
       "      <th>2010-06-29</th>\n",
       "      <td>24.129999</td>\n",
       "      <td>24.200001</td>\n",
       "      <td>23.110001</td>\n",
       "      <td>18.132368</td>\n",
       "      <td>119882100</td>\n",
       "      <td>23.309999</td>\n",
       "    </tr>\n",
       "  </tbody>\n",
       "</table>\n",
       "</div>"
      ],
      "text/plain": [
       "                 Open       High        Low  Adj Close     Volume      Close\n",
       "Date                                                                        \n",
       "2010-06-23  25.780001  25.780001  25.219999  19.688120   61466200  25.309999\n",
       "2010-06-24  25.459999  25.719999  24.930000  19.446974   85243400  25.000000\n",
       "2010-06-25  25.049999  25.110001  24.309999  19.081375  156256700  24.530001\n",
       "2010-06-28  24.510000  24.610001  24.120001  18.910240   73784800  24.309999\n",
       "2010-06-29  24.129999  24.200001  23.110001  18.132368  119882100  23.309999"
      ]
     },
     "execution_count": 9,
     "metadata": {},
     "output_type": "execute_result"
    }
   ],
   "source": [
    "daily_prices1.tail()"
   ]
  },
  {
   "cell_type": "code",
   "execution_count": 10,
   "metadata": {},
   "outputs": [],
   "source": [
    "daily_prices1['NextDayClose'] = 0.001\n",
    "\n",
    "for i in range (len(daily_prices1['Close'])):\n",
    "    daily_prices1['NextDayClose'][i-1]=float(daily_prices1['Close'][i])"
   ]
  },
  {
   "cell_type": "code",
   "execution_count": 11,
   "metadata": {},
   "outputs": [],
   "source": [
    "data1 = daily_prices1[daily_prices1.index != End_Learning]"
   ]
  },
  {
   "cell_type": "code",
   "execution_count": 12,
   "metadata": {},
   "outputs": [
    {
     "data": {
      "text/html": [
       "<div>\n",
       "<style scoped>\n",
       "    .dataframe tbody tr th:only-of-type {\n",
       "        vertical-align: middle;\n",
       "    }\n",
       "\n",
       "    .dataframe tbody tr th {\n",
       "        vertical-align: top;\n",
       "    }\n",
       "\n",
       "    .dataframe thead th {\n",
       "        text-align: right;\n",
       "    }\n",
       "</style>\n",
       "<table border=\"1\" class=\"dataframe\">\n",
       "  <thead>\n",
       "    <tr style=\"text-align: right;\">\n",
       "      <th></th>\n",
       "      <th>Open</th>\n",
       "      <th>High</th>\n",
       "      <th>Low</th>\n",
       "      <th>Adj Close</th>\n",
       "      <th>Volume</th>\n",
       "      <th>Close</th>\n",
       "      <th>NextDayClose</th>\n",
       "    </tr>\n",
       "    <tr>\n",
       "      <th>Date</th>\n",
       "      <th></th>\n",
       "      <th></th>\n",
       "      <th></th>\n",
       "      <th></th>\n",
       "      <th></th>\n",
       "      <th></th>\n",
       "      <th></th>\n",
       "    </tr>\n",
       "  </thead>\n",
       "  <tbody>\n",
       "    <tr>\n",
       "      <th>2008-04-01</th>\n",
       "      <td>28.830000</td>\n",
       "      <td>29.540001</td>\n",
       "      <td>28.629999</td>\n",
       "      <td>21.899218</td>\n",
       "      <td>65796200</td>\n",
       "      <td>29.50</td>\n",
       "      <td>29.16</td>\n",
       "    </tr>\n",
       "    <tr>\n",
       "      <th>2008-04-02</th>\n",
       "      <td>29.570000</td>\n",
       "      <td>29.580000</td>\n",
       "      <td>29.000000</td>\n",
       "      <td>21.646816</td>\n",
       "      <td>49499400</td>\n",
       "      <td>29.16</td>\n",
       "      <td>29.00</td>\n",
       "    </tr>\n",
       "    <tr>\n",
       "      <th>2008-04-03</th>\n",
       "      <td>29.000000</td>\n",
       "      <td>29.320000</td>\n",
       "      <td>28.799999</td>\n",
       "      <td>21.528038</td>\n",
       "      <td>38961400</td>\n",
       "      <td>29.00</td>\n",
       "      <td>29.16</td>\n",
       "    </tr>\n",
       "    <tr>\n",
       "      <th>2008-04-04</th>\n",
       "      <td>29.129999</td>\n",
       "      <td>29.260000</td>\n",
       "      <td>28.740000</td>\n",
       "      <td>21.646816</td>\n",
       "      <td>43860800</td>\n",
       "      <td>29.16</td>\n",
       "      <td>29.16</td>\n",
       "    </tr>\n",
       "    <tr>\n",
       "      <th>2008-04-07</th>\n",
       "      <td>29.549999</td>\n",
       "      <td>29.590000</td>\n",
       "      <td>29.030001</td>\n",
       "      <td>21.646816</td>\n",
       "      <td>44428600</td>\n",
       "      <td>29.16</td>\n",
       "      <td>28.75</td>\n",
       "    </tr>\n",
       "  </tbody>\n",
       "</table>\n",
       "</div>"
      ],
      "text/plain": [
       "                 Open       High        Low  Adj Close    Volume  Close  \\\n",
       "Date                                                                      \n",
       "2008-04-01  28.830000  29.540001  28.629999  21.899218  65796200  29.50   \n",
       "2008-04-02  29.570000  29.580000  29.000000  21.646816  49499400  29.16   \n",
       "2008-04-03  29.000000  29.320000  28.799999  21.528038  38961400  29.00   \n",
       "2008-04-04  29.129999  29.260000  28.740000  21.646816  43860800  29.16   \n",
       "2008-04-07  29.549999  29.590000  29.030001  21.646816  44428600  29.16   \n",
       "\n",
       "            NextDayClose  \n",
       "Date                      \n",
       "2008-04-01         29.16  \n",
       "2008-04-02         29.00  \n",
       "2008-04-03         29.16  \n",
       "2008-04-04         29.16  \n",
       "2008-04-07         28.75  "
      ]
     },
     "execution_count": 12,
     "metadata": {},
     "output_type": "execute_result"
    }
   ],
   "source": [
    "data1.head()"
   ]
  },
  {
   "cell_type": "code",
   "execution_count": 13,
   "metadata": {},
   "outputs": [
    {
     "data": {
      "text/html": [
       "<div>\n",
       "<style scoped>\n",
       "    .dataframe tbody tr th:only-of-type {\n",
       "        vertical-align: middle;\n",
       "    }\n",
       "\n",
       "    .dataframe tbody tr th {\n",
       "        vertical-align: top;\n",
       "    }\n",
       "\n",
       "    .dataframe thead th {\n",
       "        text-align: right;\n",
       "    }\n",
       "</style>\n",
       "<table border=\"1\" class=\"dataframe\">\n",
       "  <thead>\n",
       "    <tr style=\"text-align: right;\">\n",
       "      <th></th>\n",
       "      <th>Open</th>\n",
       "      <th>High</th>\n",
       "      <th>Low</th>\n",
       "      <th>Adj Close</th>\n",
       "      <th>Volume</th>\n",
       "      <th>Close</th>\n",
       "      <th>NextDayClose</th>\n",
       "    </tr>\n",
       "    <tr>\n",
       "      <th>Date</th>\n",
       "      <th></th>\n",
       "      <th></th>\n",
       "      <th></th>\n",
       "      <th></th>\n",
       "      <th></th>\n",
       "      <th></th>\n",
       "      <th></th>\n",
       "    </tr>\n",
       "  </thead>\n",
       "  <tbody>\n",
       "    <tr>\n",
       "      <th>2010-06-23</th>\n",
       "      <td>25.780001</td>\n",
       "      <td>25.780001</td>\n",
       "      <td>25.219999</td>\n",
       "      <td>19.688120</td>\n",
       "      <td>61466200</td>\n",
       "      <td>25.309999</td>\n",
       "      <td>25.000000</td>\n",
       "    </tr>\n",
       "    <tr>\n",
       "      <th>2010-06-24</th>\n",
       "      <td>25.459999</td>\n",
       "      <td>25.719999</td>\n",
       "      <td>24.930000</td>\n",
       "      <td>19.446974</td>\n",
       "      <td>85243400</td>\n",
       "      <td>25.000000</td>\n",
       "      <td>24.530001</td>\n",
       "    </tr>\n",
       "    <tr>\n",
       "      <th>2010-06-25</th>\n",
       "      <td>25.049999</td>\n",
       "      <td>25.110001</td>\n",
       "      <td>24.309999</td>\n",
       "      <td>19.081375</td>\n",
       "      <td>156256700</td>\n",
       "      <td>24.530001</td>\n",
       "      <td>24.309999</td>\n",
       "    </tr>\n",
       "    <tr>\n",
       "      <th>2010-06-28</th>\n",
       "      <td>24.510000</td>\n",
       "      <td>24.610001</td>\n",
       "      <td>24.120001</td>\n",
       "      <td>18.910240</td>\n",
       "      <td>73784800</td>\n",
       "      <td>24.309999</td>\n",
       "      <td>23.309999</td>\n",
       "    </tr>\n",
       "    <tr>\n",
       "      <th>2010-06-29</th>\n",
       "      <td>24.129999</td>\n",
       "      <td>24.200001</td>\n",
       "      <td>23.110001</td>\n",
       "      <td>18.132368</td>\n",
       "      <td>119882100</td>\n",
       "      <td>23.309999</td>\n",
       "      <td>29.500000</td>\n",
       "    </tr>\n",
       "  </tbody>\n",
       "</table>\n",
       "</div>"
      ],
      "text/plain": [
       "                 Open       High        Low  Adj Close     Volume      Close  \\\n",
       "Date                                                                           \n",
       "2010-06-23  25.780001  25.780001  25.219999  19.688120   61466200  25.309999   \n",
       "2010-06-24  25.459999  25.719999  24.930000  19.446974   85243400  25.000000   \n",
       "2010-06-25  25.049999  25.110001  24.309999  19.081375  156256700  24.530001   \n",
       "2010-06-28  24.510000  24.610001  24.120001  18.910240   73784800  24.309999   \n",
       "2010-06-29  24.129999  24.200001  23.110001  18.132368  119882100  23.309999   \n",
       "\n",
       "            NextDayClose  \n",
       "Date                      \n",
       "2010-06-23     25.000000  \n",
       "2010-06-24     24.530001  \n",
       "2010-06-25     24.309999  \n",
       "2010-06-28     23.309999  \n",
       "2010-06-29     29.500000  "
      ]
     },
     "execution_count": 13,
     "metadata": {},
     "output_type": "execute_result"
    }
   ],
   "source": [
    "data1.tail()"
   ]
  },
  {
   "cell_type": "code",
   "execution_count": 14,
   "metadata": {},
   "outputs": [],
   "source": [
    "X = data1.loc[:, data1.columns != 'NextDayClose']\n",
    "y = data1.loc[:, data1.columns == 'NextDayClose']"
   ]
  },
  {
   "cell_type": "code",
   "execution_count": 15,
   "metadata": {},
   "outputs": [
    {
     "data": {
      "text/plain": [
       "(567, 6)"
      ]
     },
     "execution_count": 15,
     "metadata": {},
     "output_type": "execute_result"
    }
   ],
   "source": [
    "X.shape"
   ]
  },
  {
   "cell_type": "code",
   "execution_count": 16,
   "metadata": {},
   "outputs": [
    {
     "data": {
      "text/plain": [
       "(567, 1)"
      ]
     },
     "execution_count": 16,
     "metadata": {},
     "output_type": "execute_result"
    }
   ],
   "source": [
    "y.shape"
   ]
  },
  {
   "cell_type": "markdown",
   "metadata": {},
   "source": [
    "# Train and Build a Linear Regression Model"
   ]
  },
  {
   "cell_type": "code",
   "execution_count": 17,
   "metadata": {},
   "outputs": [
    {
     "name": "stdout",
     "output_type": "stream",
     "text": [
      "                            OLS Regression Results                            \n",
      "==============================================================================\n",
      "Dep. Variable:           NextDayClose   R-squared:                       0.978\n",
      "Model:                            OLS   Adj. R-squared:                  0.977\n",
      "Method:                 Least Squares   F-statistic:                     4084.\n",
      "Date:                Wed, 18 May 2022   Prob (F-statistic):               0.00\n",
      "Time:                        23:24:41   Log-Likelihood:                -540.92\n",
      "No. Observations:                 567   AIC:                             1096.\n",
      "Df Residuals:                     560   BIC:                             1126.\n",
      "Df Model:                           6                                         \n",
      "Covariance Type:            nonrobust                                         \n",
      "==============================================================================\n",
      "                 coef    std err          t      P>|t|      [0.025      0.975]\n",
      "------------------------------------------------------------------------------\n",
      "const          0.3160      0.187      1.693      0.091      -0.051       0.683\n",
      "Open          -0.0201      0.120     -0.168      0.867      -0.255       0.215\n",
      "High           0.0904      0.156      0.579      0.563      -0.216       0.397\n",
      "Low            0.3261      0.138      2.360      0.019       0.055       0.597\n",
      "Adj Close      0.1176      0.093      1.267      0.206      -0.065       0.300\n",
      "Volume      1.208e-09   1.33e-09      0.909      0.364    -1.4e-09    3.82e-09\n",
      "Close          0.5014      0.141      3.558      0.000       0.225       0.778\n",
      "==============================================================================\n",
      "Omnibus:                      285.764   Durbin-Watson:                   1.864\n",
      "Prob(Omnibus):                  0.000   Jarque-Bera (JB):             7127.178\n",
      "Skew:                           1.668   Prob(JB):                         0.00\n",
      "Kurtosis:                      20.046   Cond. No.                     6.29e+08\n",
      "==============================================================================\n",
      "\n",
      "Notes:\n",
      "[1] Standard Errors assume that the covariance matrix of the errors is correctly specified.\n",
      "[2] The condition number is large, 6.29e+08. This might indicate that there are\n",
      "strong multicollinearity or other numerical problems.\n"
     ]
    }
   ],
   "source": [
    "import statsmodels.api as sm\n",
    "# Add a constant to the independent value\n",
    "X1 = sm.add_constant(X)\n",
    "# make regression model \n",
    "model = sm.OLS(y, X1)\n",
    "# fit model and print results\n",
    "result = model.fit()\n",
    "print(result.summary())"
   ]
  },
  {
   "cell_type": "code",
   "execution_count": 18,
   "metadata": {},
   "outputs": [],
   "source": [
    "lr=LinearRegression()\n",
    "#fit the linear model on train data\n",
    "lr_model=lr.fit(X,y)  "
   ]
  },
  {
   "cell_type": "markdown",
   "metadata": {},
   "source": [
    "# Model Evaluation"
   ]
  },
  {
   "cell_type": "code",
   "execution_count": 19,
   "metadata": {},
   "outputs": [
    {
     "name": "stdout",
     "output_type": "stream",
     "text": [
      "R squared of linear regression model: 97.77%\n",
      "RMSE of linear regression model: 0.6281745399291477\n"
     ]
    }
   ],
   "source": [
    "from sklearn.metrics import mean_squared_error,mean_absolute_error\n",
    "#predict using the model\n",
    "y_pred=lr.predict(X)  \n",
    "#calculate R squared\n",
    "print(\"R squared of linear regression model:\", \"{:.2%}\".format(lr.score(X, y)))\n",
    "#calculate rmse\n",
    "rmse=np.sqrt(mean_squared_error(y,y_pred))     \n",
    "print('RMSE of linear regression model:',rmse)"
   ]
  },
  {
   "cell_type": "markdown",
   "metadata": {},
   "source": [
    "# Real-time Prediction"
   ]
  },
  {
   "cell_type": "code",
   "execution_count": 20,
   "metadata": {},
   "outputs": [
    {
     "name": "stdout",
     "output_type": "stream",
     "text": [
      "[*********************100%***********************]  1 of 1 completed\n"
     ]
    }
   ],
   "source": [
    "df2 = pdr.get_data_yahoo([\"MSFT\"], start= Start_Prediction, end= End_Prediction)"
   ]
  },
  {
   "cell_type": "code",
   "execution_count": 21,
   "metadata": {},
   "outputs": [
    {
     "data": {
      "text/html": [
       "<div>\n",
       "<style scoped>\n",
       "    .dataframe tbody tr th:only-of-type {\n",
       "        vertical-align: middle;\n",
       "    }\n",
       "\n",
       "    .dataframe tbody tr th {\n",
       "        vertical-align: top;\n",
       "    }\n",
       "\n",
       "    .dataframe thead th {\n",
       "        text-align: right;\n",
       "    }\n",
       "</style>\n",
       "<table border=\"1\" class=\"dataframe\">\n",
       "  <thead>\n",
       "    <tr style=\"text-align: right;\">\n",
       "      <th></th>\n",
       "      <th>Open</th>\n",
       "      <th>High</th>\n",
       "      <th>Low</th>\n",
       "      <th>Close</th>\n",
       "      <th>Adj Close</th>\n",
       "      <th>Volume</th>\n",
       "    </tr>\n",
       "    <tr>\n",
       "      <th>Date</th>\n",
       "      <th></th>\n",
       "      <th></th>\n",
       "      <th></th>\n",
       "      <th></th>\n",
       "      <th></th>\n",
       "      <th></th>\n",
       "    </tr>\n",
       "  </thead>\n",
       "  <tbody>\n",
       "    <tr>\n",
       "      <th>2010-06-29</th>\n",
       "      <td>24.129999</td>\n",
       "      <td>24.200001</td>\n",
       "      <td>23.110001</td>\n",
       "      <td>23.309999</td>\n",
       "      <td>18.132364</td>\n",
       "      <td>119882100</td>\n",
       "    </tr>\n",
       "    <tr>\n",
       "      <th>2010-06-30</th>\n",
       "      <td>23.299999</td>\n",
       "      <td>23.680000</td>\n",
       "      <td>22.950001</td>\n",
       "      <td>23.010000</td>\n",
       "      <td>17.899004</td>\n",
       "      <td>81050500</td>\n",
       "    </tr>\n",
       "    <tr>\n",
       "      <th>2010-07-01</th>\n",
       "      <td>23.090000</td>\n",
       "      <td>23.320000</td>\n",
       "      <td>22.730000</td>\n",
       "      <td>23.160000</td>\n",
       "      <td>18.015676</td>\n",
       "      <td>92239400</td>\n",
       "    </tr>\n",
       "    <tr>\n",
       "      <th>2010-07-02</th>\n",
       "      <td>23.360001</td>\n",
       "      <td>23.480000</td>\n",
       "      <td>23.049999</td>\n",
       "      <td>23.270000</td>\n",
       "      <td>18.101250</td>\n",
       "      <td>62485100</td>\n",
       "    </tr>\n",
       "  </tbody>\n",
       "</table>\n",
       "</div>"
      ],
      "text/plain": [
       "                 Open       High        Low      Close  Adj Close     Volume\n",
       "Date                                                                        \n",
       "2010-06-29  24.129999  24.200001  23.110001  23.309999  18.132364  119882100\n",
       "2010-06-30  23.299999  23.680000  22.950001  23.010000  17.899004   81050500\n",
       "2010-07-01  23.090000  23.320000  22.730000  23.160000  18.015676   92239400\n",
       "2010-07-02  23.360001  23.480000  23.049999  23.270000  18.101250   62485100"
      ]
     },
     "execution_count": 21,
     "metadata": {},
     "output_type": "execute_result"
    }
   ],
   "source": [
    "df2"
   ]
  },
  {
   "cell_type": "code",
   "execution_count": 22,
   "metadata": {},
   "outputs": [],
   "source": [
    "daily_prices2 = pd.concat([df2['Open'], df2['High'], df2['Low'],\n",
    "                           df2['Adj Close'], df2['Volume'],df2['Close']], axis=1)\n",
    "daily_prices2.columns = ['Open', 'High', 'Low',\n",
    "                         'Adj Close','Volume','Close']"
   ]
  },
  {
   "cell_type": "code",
   "execution_count": 23,
   "metadata": {},
   "outputs": [
    {
     "data": {
      "text/html": [
       "<div>\n",
       "<style scoped>\n",
       "    .dataframe tbody tr th:only-of-type {\n",
       "        vertical-align: middle;\n",
       "    }\n",
       "\n",
       "    .dataframe tbody tr th {\n",
       "        vertical-align: top;\n",
       "    }\n",
       "\n",
       "    .dataframe thead th {\n",
       "        text-align: right;\n",
       "    }\n",
       "</style>\n",
       "<table border=\"1\" class=\"dataframe\">\n",
       "  <thead>\n",
       "    <tr style=\"text-align: right;\">\n",
       "      <th></th>\n",
       "      <th>Open</th>\n",
       "      <th>High</th>\n",
       "      <th>Low</th>\n",
       "      <th>Adj Close</th>\n",
       "      <th>Volume</th>\n",
       "      <th>Close</th>\n",
       "    </tr>\n",
       "    <tr>\n",
       "      <th>Date</th>\n",
       "      <th></th>\n",
       "      <th></th>\n",
       "      <th></th>\n",
       "      <th></th>\n",
       "      <th></th>\n",
       "      <th></th>\n",
       "    </tr>\n",
       "  </thead>\n",
       "  <tbody>\n",
       "    <tr>\n",
       "      <th>2010-06-29</th>\n",
       "      <td>24.129999</td>\n",
       "      <td>24.200001</td>\n",
       "      <td>23.110001</td>\n",
       "      <td>18.132364</td>\n",
       "      <td>119882100</td>\n",
       "      <td>23.309999</td>\n",
       "    </tr>\n",
       "    <tr>\n",
       "      <th>2010-06-30</th>\n",
       "      <td>23.299999</td>\n",
       "      <td>23.680000</td>\n",
       "      <td>22.950001</td>\n",
       "      <td>17.899004</td>\n",
       "      <td>81050500</td>\n",
       "      <td>23.010000</td>\n",
       "    </tr>\n",
       "    <tr>\n",
       "      <th>2010-07-01</th>\n",
       "      <td>23.090000</td>\n",
       "      <td>23.320000</td>\n",
       "      <td>22.730000</td>\n",
       "      <td>18.015676</td>\n",
       "      <td>92239400</td>\n",
       "      <td>23.160000</td>\n",
       "    </tr>\n",
       "    <tr>\n",
       "      <th>2010-07-02</th>\n",
       "      <td>23.360001</td>\n",
       "      <td>23.480000</td>\n",
       "      <td>23.049999</td>\n",
       "      <td>18.101250</td>\n",
       "      <td>62485100</td>\n",
       "      <td>23.270000</td>\n",
       "    </tr>\n",
       "  </tbody>\n",
       "</table>\n",
       "</div>"
      ],
      "text/plain": [
       "                 Open       High        Low  Adj Close     Volume      Close\n",
       "Date                                                                        \n",
       "2010-06-29  24.129999  24.200001  23.110001  18.132364  119882100  23.309999\n",
       "2010-06-30  23.299999  23.680000  22.950001  17.899004   81050500  23.010000\n",
       "2010-07-01  23.090000  23.320000  22.730000  18.015676   92239400  23.160000\n",
       "2010-07-02  23.360001  23.480000  23.049999  18.101250   62485100  23.270000"
      ]
     },
     "execution_count": 23,
     "metadata": {},
     "output_type": "execute_result"
    }
   ],
   "source": [
    "daily_prices2.head()"
   ]
  },
  {
   "cell_type": "code",
   "execution_count": 24,
   "metadata": {},
   "outputs": [
    {
     "data": {
      "text/html": [
       "<div>\n",
       "<style scoped>\n",
       "    .dataframe tbody tr th:only-of-type {\n",
       "        vertical-align: middle;\n",
       "    }\n",
       "\n",
       "    .dataframe tbody tr th {\n",
       "        vertical-align: top;\n",
       "    }\n",
       "\n",
       "    .dataframe thead th {\n",
       "        text-align: right;\n",
       "    }\n",
       "</style>\n",
       "<table border=\"1\" class=\"dataframe\">\n",
       "  <thead>\n",
       "    <tr style=\"text-align: right;\">\n",
       "      <th></th>\n",
       "      <th>Open</th>\n",
       "      <th>High</th>\n",
       "      <th>Low</th>\n",
       "      <th>Adj Close</th>\n",
       "      <th>Volume</th>\n",
       "      <th>Close</th>\n",
       "    </tr>\n",
       "    <tr>\n",
       "      <th>Date</th>\n",
       "      <th></th>\n",
       "      <th></th>\n",
       "      <th></th>\n",
       "      <th></th>\n",
       "      <th></th>\n",
       "      <th></th>\n",
       "    </tr>\n",
       "  </thead>\n",
       "  <tbody>\n",
       "    <tr>\n",
       "      <th>2010-06-29</th>\n",
       "      <td>24.129999</td>\n",
       "      <td>24.200001</td>\n",
       "      <td>23.110001</td>\n",
       "      <td>18.132364</td>\n",
       "      <td>119882100</td>\n",
       "      <td>23.309999</td>\n",
       "    </tr>\n",
       "    <tr>\n",
       "      <th>2010-06-30</th>\n",
       "      <td>23.299999</td>\n",
       "      <td>23.680000</td>\n",
       "      <td>22.950001</td>\n",
       "      <td>17.899004</td>\n",
       "      <td>81050500</td>\n",
       "      <td>23.010000</td>\n",
       "    </tr>\n",
       "    <tr>\n",
       "      <th>2010-07-01</th>\n",
       "      <td>23.090000</td>\n",
       "      <td>23.320000</td>\n",
       "      <td>22.730000</td>\n",
       "      <td>18.015676</td>\n",
       "      <td>92239400</td>\n",
       "      <td>23.160000</td>\n",
       "    </tr>\n",
       "    <tr>\n",
       "      <th>2010-07-02</th>\n",
       "      <td>23.360001</td>\n",
       "      <td>23.480000</td>\n",
       "      <td>23.049999</td>\n",
       "      <td>18.101250</td>\n",
       "      <td>62485100</td>\n",
       "      <td>23.270000</td>\n",
       "    </tr>\n",
       "  </tbody>\n",
       "</table>\n",
       "</div>"
      ],
      "text/plain": [
       "                 Open       High        Low  Adj Close     Volume      Close\n",
       "Date                                                                        \n",
       "2010-06-29  24.129999  24.200001  23.110001  18.132364  119882100  23.309999\n",
       "2010-06-30  23.299999  23.680000  22.950001  17.899004   81050500  23.010000\n",
       "2010-07-01  23.090000  23.320000  22.730000  18.015676   92239400  23.160000\n",
       "2010-07-02  23.360001  23.480000  23.049999  18.101250   62485100  23.270000"
      ]
     },
     "execution_count": 24,
     "metadata": {},
     "output_type": "execute_result"
    }
   ],
   "source": [
    "daily_prices2.tail()"
   ]
  },
  {
   "cell_type": "code",
   "execution_count": 25,
   "metadata": {},
   "outputs": [],
   "source": [
    "daily_prices2['NextDayClose'] = 0.001\n",
    "for i in range (len(daily_prices2['Close'])):\n",
    "    daily_prices2['NextDayClose'][i-1] = float(daily_prices2['Close'][i])"
   ]
  },
  {
   "cell_type": "code",
   "execution_count": 26,
   "metadata": {},
   "outputs": [],
   "source": [
    "data2 = daily_prices2[daily_prices2.index == Start_Prediction]"
   ]
  },
  {
   "cell_type": "code",
   "execution_count": 27,
   "metadata": {},
   "outputs": [
    {
     "data": {
      "text/html": [
       "<div>\n",
       "<style scoped>\n",
       "    .dataframe tbody tr th:only-of-type {\n",
       "        vertical-align: middle;\n",
       "    }\n",
       "\n",
       "    .dataframe tbody tr th {\n",
       "        vertical-align: top;\n",
       "    }\n",
       "\n",
       "    .dataframe thead th {\n",
       "        text-align: right;\n",
       "    }\n",
       "</style>\n",
       "<table border=\"1\" class=\"dataframe\">\n",
       "  <thead>\n",
       "    <tr style=\"text-align: right;\">\n",
       "      <th></th>\n",
       "      <th>Open</th>\n",
       "      <th>High</th>\n",
       "      <th>Low</th>\n",
       "      <th>Adj Close</th>\n",
       "      <th>Volume</th>\n",
       "      <th>Close</th>\n",
       "      <th>NextDayClose</th>\n",
       "    </tr>\n",
       "    <tr>\n",
       "      <th>Date</th>\n",
       "      <th></th>\n",
       "      <th></th>\n",
       "      <th></th>\n",
       "      <th></th>\n",
       "      <th></th>\n",
       "      <th></th>\n",
       "      <th></th>\n",
       "    </tr>\n",
       "  </thead>\n",
       "  <tbody>\n",
       "    <tr>\n",
       "      <th>2010-06-30</th>\n",
       "      <td>23.299999</td>\n",
       "      <td>23.68</td>\n",
       "      <td>22.950001</td>\n",
       "      <td>17.899004</td>\n",
       "      <td>81050500</td>\n",
       "      <td>23.01</td>\n",
       "      <td>23.16</td>\n",
       "    </tr>\n",
       "  </tbody>\n",
       "</table>\n",
       "</div>"
      ],
      "text/plain": [
       "                 Open   High        Low  Adj Close    Volume  Close  \\\n",
       "Date                                                                  \n",
       "2010-06-30  23.299999  23.68  22.950001  17.899004  81050500  23.01   \n",
       "\n",
       "            NextDayClose  \n",
       "Date                      \n",
       "2010-06-30         23.16  "
      ]
     },
     "execution_count": 27,
     "metadata": {},
     "output_type": "execute_result"
    }
   ],
   "source": [
    "data2"
   ]
  },
  {
   "cell_type": "code",
   "execution_count": 28,
   "metadata": {},
   "outputs": [],
   "source": [
    "TRUE = data2['NextDayClose'][0]"
   ]
  },
  {
   "cell_type": "code",
   "execution_count": 29,
   "metadata": {},
   "outputs": [
    {
     "name": "stdout",
     "output_type": "stream",
     "text": [
      "\u001b[1m The estimated price for 2010-07-01 is: $ 23.2129\n",
      "\u001b[1m The stock was trading on 2010-07-01 is: $ 23.16\n"
     ]
    }
   ],
   "source": [
    "new_data = data2.drop(['NextDayClose'], axis=1)\n",
    "new_data = np.array(new_data).reshape(1, -1)\n",
    "new_pred=lr.predict(new_data)\n",
    "result = float(new_pred[0])\n",
    "print(\"\\033[1m The estimated price for\", Prediction_Date, \"is: $\",round(result,4))\n",
    "print(\"\\033[1m The stock was trading on\", Prediction_Date, \"is: $\", round(TRUE,4))"
   ]
  },
  {
   "cell_type": "code",
   "execution_count": 30,
   "metadata": {},
   "outputs": [
    {
     "data": {
      "text/html": [
       "<div>\n",
       "<style scoped>\n",
       "    .dataframe tbody tr th:only-of-type {\n",
       "        vertical-align: middle;\n",
       "    }\n",
       "\n",
       "    .dataframe tbody tr th {\n",
       "        vertical-align: top;\n",
       "    }\n",
       "\n",
       "    .dataframe thead th {\n",
       "        text-align: right;\n",
       "    }\n",
       "</style>\n",
       "<table border=\"1\" class=\"dataframe\">\n",
       "  <thead>\n",
       "    <tr style=\"text-align: right;\">\n",
       "      <th></th>\n",
       "      <th>Open</th>\n",
       "      <th>High</th>\n",
       "      <th>Low</th>\n",
       "      <th>Adj Close</th>\n",
       "      <th>Volume</th>\n",
       "      <th>Close</th>\n",
       "    </tr>\n",
       "    <tr>\n",
       "      <th>Date</th>\n",
       "      <th></th>\n",
       "      <th></th>\n",
       "      <th></th>\n",
       "      <th></th>\n",
       "      <th></th>\n",
       "      <th></th>\n",
       "    </tr>\n",
       "  </thead>\n",
       "  <tbody>\n",
       "    <tr>\n",
       "      <th>2010-07-01</th>\n",
       "      <td>23.09</td>\n",
       "      <td>23.32</td>\n",
       "      <td>22.73</td>\n",
       "      <td>18.015676</td>\n",
       "      <td>92239400</td>\n",
       "      <td>23.16</td>\n",
       "    </tr>\n",
       "  </tbody>\n",
       "</table>\n",
       "</div>"
      ],
      "text/plain": [
       "             Open   High    Low  Adj Close    Volume  Close\n",
       "Date                                                       \n",
       "2010-07-01  23.09  23.32  22.73  18.015676  92239400  23.16"
      ]
     },
     "execution_count": 30,
     "metadata": {},
     "output_type": "execute_result"
    }
   ],
   "source": [
    "data3 = daily_prices2.drop(['NextDayClose'], axis=1, inplace=True)\n",
    "data3 = daily_prices2[daily_prices2.index == Prediction_Date]\n",
    "data3"
   ]
  }
 ],
 "metadata": {
  "kernelspec": {
   "display_name": "Python 3",
   "language": "python",
   "name": "python3"
  },
  "language_info": {
   "codemirror_mode": {
    "name": "ipython",
    "version": 3
   },
   "file_extension": ".py",
   "mimetype": "text/x-python",
   "name": "python",
   "nbconvert_exporter": "python",
   "pygments_lexer": "ipython3",
   "version": "3.7.4"
  }
 },
 "nbformat": 4,
 "nbformat_minor": 4
}
